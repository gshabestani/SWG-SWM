{
 "cells": [
  {
   "cell_type": "code",
   "execution_count": 1,
   "id": "bbc313ca",
   "metadata": {},
   "outputs": [],
   "source": [
    "#import Func_Lib as func\n",
    "import numpy as np\n",
    "import pandas as pd\n",
    "import math\n",
    "import matplotlib.pyplot as plt\n",
    "from scipy import stats\n",
    "from scipy.stats import norm\n",
    "from statsmodels.tsa.arima_model import ARMA\n",
    "plt.style.use('seaborn-white')\n",
    "import time\n",
    "import os\n",
    "from glob import glob\n",
    "import sys\n",
    "import seaborn as sns"
   ]
  },
  {
   "cell_type": "markdown",
   "id": "5a863377",
   "metadata": {},
   "source": [
    "## <font color = 'green'> Reloading in the data </font>"
   ]
  },
  {
   "cell_type": "code",
   "execution_count": 2,
   "id": "b9c42abf",
   "metadata": {},
   "outputs": [],
   "source": [
    "flood50Y0 = np.load('flood50Y0.npy')\n",
    "flood100Y0 = np.load('flood100Y0.npy')\n",
    "flood500Y0 = np.load('flood500Y0.npy')\n",
    "\n",
    "flood50Y1 = np.load('flood50Y1.npy')\n",
    "flood100Y1 = np.load('flood100Y1.npy')\n",
    "flood500Y1 = np.load('flood500Y1.npy')\n",
    "\n",
    "flood50Y2 = np.load('flood50Y2.npy')\n",
    "flood100Y2 = np.load('flood100Y2.npy')\n",
    "flood500Y2 = np.load('flood500Y2.npy')\n",
    "\n",
    "flood50Y3 = np.load('flood50Y3.npy')\n",
    "flood100Y3 = np.load('flood100Y3.npy')\n",
    "flood500Y3 = np.load('flood500Y3.npy')\n",
    "\n",
    "flood50Y4 = np.load('flood50Y4.npy')\n",
    "flood100Y4 = np.load('flood100Y4.npy')\n",
    "flood500Y4 = np.load('flood500Y4.npy')\n",
    "\n",
    "flood50Y5 = np.load('flood50Y5.npy')\n",
    "flood100Y5 = np.load('flood100Y5.npy')\n",
    "flood500Y5 = np.load('flood500Y5.npy')"
   ]
  },
  {
   "cell_type": "code",
   "execution_count": 5,
   "id": "c2c4d8cd",
   "metadata": {},
   "outputs": [
    {
     "data": {
      "image/png": "[encoded data removed]",
      "text/plain": [
       "<Figure size 432x288 with 1 Axes>"
      ]
     },
     "metadata": {},
     "output_type": "display_data"
    }
   ],
   "source": [
    "max50SWM5=np.percentile(flood50Y5,95)\n",
    "min50SWM5=np.percentile(flood50Y5,5)\n",
    "\n",
    "max50SWM4=np.percentile(flood50Y4,95)\n",
    "min50SWM4=np.percentile(flood50Y4,5)\n",
    "\n",
    "max50SWM3=np.percentile(flood50Y3,95)\n",
    "min50SWM3=np.percentile(flood50Y3,5)\n",
    "\n",
    "max50SWM2=np.percentile(flood50Y2,95)\n",
    "min50SWM2=np.percentile(flood50Y2,5)\n",
    "\n",
    "max50SWM1=np.percentile(flood50Y1,95)\n",
    "min50SWM1=np.percentile(flood50Y1,5)\n",
    "\n",
    "max50SWM0=np.percentile(flood50Y0,95)\n",
    "min50SWM0=np.percentile(flood50Y0,5)\n",
    "\n",
    "f=plt.figure(figsize=(6,4), constrained_layout=True)\n",
    "\n",
    "plt.plot([min50SWM0,max50SWM0],[1,1],color='k')\n",
    "plt.scatter(np.median(flood50Y0), 1,color='k')\n",
    "\n",
    "plt.plot([min50SWM1,max50SWM1],[2,2],color='k')\n",
    "plt.scatter(np.median(flood50Y1), 2,color='k')\n",
    "\n",
    "plt.plot([min50SWM2,max50SWM2],[3,3],color='k')\n",
    "plt.scatter(np.median(flood50Y2), 3,color='k')\n",
    "\n",
    "plt.plot([min50SWM3,max50SWM3],[4,4],color='k')\n",
    "plt.scatter(np.median(flood50Y3), 4,color='k')\n",
    "\n",
    "plt.plot([min50SWM4,max50SWM4],[5,5],color='k')\n",
    "plt.scatter(np.median(flood50Y4), 5,color='k')\n",
    "\n",
    "plt.plot([min50SWM5,max50SWM5],[6,6],color='k')\n",
    "plt.scatter(np.median(flood50Y5), 6,color='k')\n",
    "\n",
    "#plt.scatter(6487.161561,1,color='k')\n",
    "#plt.plot([3342,10691],[1,1],color='k')\n",
    "\n",
    "plt.grid()\n",
    "\n",
    "plt.xlabel('50 year flood [$m^3/s$]', size=16)\n",
    "plt.ylim(0,6.5)\n",
    "plt.yticks([1,2,3,4,5,6],['0$^\\circ$C','1$^\\circ$C','2$^\\circ$C','3$^\\circ$C','4$^\\circ$C','5$^\\circ$C'], size=16)\n",
    "\n",
    "plt.savefig('50_flood_stationary_final.png', dpi=1000)\n",
    "\n",
    "plt.show() #display plot"
   ]
  },
  {
   "cell_type": "code",
   "execution_count": 12,
   "id": "8fb28c5a",
   "metadata": {},
   "outputs": [
    {
     "data": {
      "text/plain": [
       "6569.324318309929"
      ]
     },
     "execution_count": 12,
     "metadata": {},
     "output_type": "execute_result"
    }
   ],
   "source": [
    "np.median(flood50Y0)"
   ]
  },
  {
   "cell_type": "code",
   "execution_count": 6,
   "id": "61b89f8f",
   "metadata": {},
   "outputs": [
    {
     "data": {
      "image/png": "[encoded data removed]",
      "text/plain": [
       "<Figure size 432x288 with 1 Axes>"
      ]
     },
     "metadata": {},
     "output_type": "display_data"
    }
   ],
   "source": [
    "max100SWM5=np.percentile(flood100Y5,95)\n",
    "min100SWM5=np.percentile(flood100Y5,5)\n",
    "\n",
    "max100SWM4=np.percentile(flood100Y4,95)\n",
    "min100SWM4=np.percentile(flood100Y4,5)\n",
    "\n",
    "max100SWM3=np.percentile(flood100Y3,95)\n",
    "min100SWM3=np.percentile(flood100Y3,5)\n",
    "\n",
    "max100SWM2=np.percentile(flood100Y2,95)\n",
    "min100SWM2=np.percentile(flood100Y2,5)\n",
    "\n",
    "max100SWM1=np.percentile(flood100Y1,95)\n",
    "min100SWM1=np.percentile(flood100Y1,5)\n",
    "\n",
    "max100SWM0=np.percentile(flood100Y0,95)\n",
    "min100SWM0=np.percentile(flood100Y0,5)\n",
    "\n",
    "f=plt.figure(figsize=(6,4), constrained_layout=True)\n",
    "\n",
    "plt.plot([min100SWM0,max100SWM0],[2,2],color='k')\n",
    "plt.scatter(np.median(flood100Y0), 2,color='k')\n",
    "\n",
    "plt.plot([min100SWM1,max100SWM1],[3,3],color='k')\n",
    "plt.scatter(np.median(flood100Y1), 3,color='k')\n",
    "\n",
    "plt.plot([min100SWM2,max100SWM2],[4,4],color='k')\n",
    "plt.scatter(np.median(flood100Y2), 4,color='k')\n",
    "\n",
    "plt.plot([min100SWM3,max100SWM3],[5,5],color='k')\n",
    "plt.scatter(np.median(flood100Y3), 5,color='k')\n",
    "\n",
    "plt.plot([min100SWM4,max100SWM4],[6,6],color='k')\n",
    "plt.scatter(np.median(flood100Y4), 6,color='k')\n",
    "\n",
    "plt.plot([min100SWM5,max100SWM5],[7,7],color='k')\n",
    "plt.scatter(np.median(flood100Y5), 7,color='k')\n",
    "\n",
    "# plt.scatter(8028.658832,1,color='k')\n",
    "#plt.plot([3409,14946],[1,1],color='k')\n",
    "\n",
    "plt.grid()\n",
    "\n",
    "plt.xlabel('100 year flood [$m^3/s$]', size=16)\n",
    "plt.ylim(1,7.5)\n",
    "plt.yticks([2,3,4,5,6,7],['0$^\\circ$C','1$^\\circ$C','2$^\\circ$C','3$^\\circ$C','4$^\\circ$C','5$^\\circ$C'], size=16)\n",
    "\n",
    "plt.savefig('100_flood_stationary_final.png', dpi=1000)\n",
    "\n",
    "plt.show() #display plot"
   ]
  },
  {
   "cell_type": "code",
   "execution_count": 14,
   "id": "aad4888c",
   "metadata": {},
   "outputs": [
    {
     "data": {
      "text/plain": [
       "8450.777365880338"
      ]
     },
     "execution_count": 14,
     "metadata": {},
     "output_type": "execute_result"
    }
   ],
   "source": [
    "np.median(flood100Y0)"
   ]
  },
  {
   "cell_type": "code",
   "execution_count": 7,
   "id": "fe6f881b",
   "metadata": {},
   "outputs": [
    {
     "data": {
      "image/png": "[encoded data removed]",
      "text/plain": [
       "<Figure size 432x288 with 1 Axes>"
      ]
     },
     "metadata": {},
     "output_type": "display_data"
    }
   ],
   "source": [
    "max500SWM5=np.percentile(flood500Y5,95)\n",
    "min500SWM5=np.percentile(flood500Y5,5)\n",
    "\n",
    "max500SWM4=np.percentile(flood500Y4,95)\n",
    "min500SWM4=np.percentile(flood500Y4,5)\n",
    "\n",
    "max500SWM3=np.percentile(flood500Y3,95)\n",
    "min500SWM3=np.percentile(flood500Y3,5)\n",
    "\n",
    "max500SWM2=np.percentile(flood500Y2,95)\n",
    "min500SWM2=np.percentile(flood500Y2,5)\n",
    "\n",
    "max500SWM1=np.percentile(flood500Y1,95)\n",
    "min500SWM1=np.percentile(flood500Y1,5)\n",
    "\n",
    "max500SWM0=np.percentile(flood500Y0,95)\n",
    "min500SWM0=np.percentile(flood500Y0,5)\n",
    "\n",
    "f=plt.figure(figsize=(6,4), constrained_layout=True)\n",
    "\n",
    "plt.plot([min500SWM0,max500SWM0],[2,2],color='k')\n",
    "plt.scatter(np.median(flood500Y0), 2,color='k')\n",
    "\n",
    "plt.plot([min500SWM1,max500SWM1],[3,3],color='k')\n",
    "plt.scatter(np.median(flood500Y1), 3,color='k')\n",
    "\n",
    "plt.plot([min500SWM2,max500SWM2],[4,4],color='k')\n",
    "plt.scatter(np.median(flood500Y2), 4,color='k')\n",
    "\n",
    "plt.plot([min500SWM3,max500SWM3],[5,5],color='k')\n",
    "plt.scatter(np.median(flood500Y3), 5,color='k')\n",
    "\n",
    "plt.plot([min500SWM4,max500SWM4],[6,6],color='k')\n",
    "plt.scatter(np.median(flood500Y4), 6,color='k')\n",
    "\n",
    "plt.plot([min500SWM5,max500SWM5],[7,7],color='k')\n",
    "plt.scatter(np.median(flood500Y5), 7,color='k')\n",
    "\n",
    "# plt.scatter(12536.281346,1,color='k')\n",
    "#plt.plot([3346,31349],[1,1],color='k')\n",
    "\n",
    "plt.grid()\n",
    "\n",
    "plt.xlabel('500 year flood [$m^3/s$]', size=16)\n",
    "plt.ylim(1,7.5)\n",
    "plt.yticks([2,3,4,5,6,7],['0$^\\circ$C','1$^\\circ$C','2$^\\circ$C','3$^\\circ$C','4$^\\circ$C','5$^\\circ$C'], size=16)\n",
    "\n",
    "plt.savefig('500_flood_stationary_final.png', dpi=1000)\n",
    "\n",
    "plt.show() #display plot"
   ]
  },
  {
   "cell_type": "code",
   "execution_count": 16,
   "id": "1d2faae6",
   "metadata": {},
   "outputs": [
    {
     "data": {
      "text/plain": [
       "14417.956165319058"
      ]
     },
     "execution_count": 16,
     "metadata": {},
     "output_type": "execute_result"
    }
   ],
   "source": [
    "np.median(flood500Y0)"
   ]
  },
  {
   "cell_type": "code",
   "execution_count": null,
   "id": "b9a91b6e",
   "metadata": {},
   "outputs": [],
   "source": []
  },
  {
   "cell_type": "code",
   "execution_count": null,
   "id": "3beb8896",
   "metadata": {},
   "outputs": [],
   "source": []
  }
 ],
 "metadata": {
  "kernelspec": {
   "display_name": "Python 3",
   "language": "python",
   "name": "python3"
  },
  "language_info": {
   "codemirror_mode": {
    "name": "ipython",
    "version": 3
   },
   "file_extension": ".py",
   "mimetype": "text/x-python",
   "name": "python",
   "nbconvert_exporter": "python",
   "pygments_lexer": "ipython3",
   "version": "3.8.8"
  }
 },
 "nbformat": 4,
 "nbformat_minor": 5
}
