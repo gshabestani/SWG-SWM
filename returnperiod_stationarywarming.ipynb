{
 "cells": [
  {
   "cell_type": "code",
   "execution_count": 1,
   "metadata": {},
   "outputs": [],
   "source": [
    "#import Func_Lib as func\n",
    "import numpy as np\n",
    "import pandas as pd\n",
    "import math\n",
    "import matplotlib.pyplot as plt\n",
    "from scipy import stats\n",
    "from scipy.stats import norm\n",
    "from statsmodels.tsa.arima_model import ARMA\n",
    "plt.style.use('seaborn-white')\n",
    "import time\n",
    "import os\n",
    "from glob import glob\n",
    "import sys\n",
    "import seaborn as sns"
   ]
  },
  {
   "cell_type": "markdown",
   "metadata": {},
   "source": [
    "First we are loadding the data of annual maximums for different warming scenarios. Calling them annualmaxT, T referin g to warming.\n",
    "We are also loading the PRMS runs of SWGs and calling them dataframesT."
   ]
  },
  {
   "cell_type": "code",
   "execution_count": 2,
   "metadata": {},
   "outputs": [
    {
     "name": "stdout",
     "output_type": "stream",
     "text": [
      "(100, 64, 10006)\n"
     ]
    }
   ],
   "source": [
    "filename=glob('/cluster/tufts/lamontagnelab/gshabe01/outfiles/deg3.5/annualmaxbig*.npy')\n",
    "annualmax_arrays=np.array([np.load(f) for f in filename])\n",
    "print(annualmax_arrays.shape)\n",
    "\n",
    "filename=glob('/cluster/tufts/lamontagnelab/gshabe01/deg_tempC.3.5/*.csv')\n",
    "\n",
    "dataframes=[pd.read_csv(f) for f in filename]"
   ]
  },
  {
   "cell_type": "code",
   "execution_count": null,
   "metadata": {},
   "outputs": [],
   "source": []
  },
  {
   "cell_type": "code",
   "execution_count": 3,
   "metadata": {},
   "outputs": [
    {
     "name": "stdout",
     "output_type": "stream",
     "text": [
      "(100, 64, 10006)\n"
     ]
    }
   ],
   "source": [
    "filename=glob('/cluster/tufts/lamontagnelab/gshabe01/outfiles/deg8/annualmaxbig*.npy')\n",
    "annualmax_arrays8=np.array([np.load(f) for f in filename])\n",
    "print(annualmax_arrays8.shape)\n",
    "\n",
    "filename=glob('/cluster/projects/lamontagnelab/gshabe01/deg_tempC.8/*.csv')\n",
    "\n",
    "dataframes8=[pd.read_csv(f) for f in filename]"
   ]
  },
  {
   "cell_type": "code",
   "execution_count": 4,
   "metadata": {},
   "outputs": [
    {
     "name": "stdout",
     "output_type": "stream",
     "text": [
      "(100, 64, 10006)\n"
     ]
    }
   ],
   "source": [
    "filename=glob('/cluster/tufts/lamontagnelab/gshabe01/outfiles/deg6/annualmaxbig*.npy')\n",
    "annualmax_arrays6=np.array([np.load(f) for f in filename])\n",
    "print(annualmax_arrays6.shape)\n",
    "\n",
    "filename=glob('/cluster/tufts/lamontagnelab/gshabe01/deg_tempC.6/*.csv')\n",
    "\n",
    "dataframes6=[pd.read_csv(f) for f in filename]"
   ]
  },
  {
   "cell_type": "code",
   "execution_count": 5,
   "metadata": {},
   "outputs": [
    {
     "name": "stdout",
     "output_type": "stream",
     "text": [
      "(100, 64, 10006)\n"
     ]
    }
   ],
   "source": [
    "filename=glob('/cluster/tufts/lamontagnelab/gshabe01/outfiles/deg0/annualmaxbig*.npy')\n",
    "annualmax0_arrays=np.array([np.load(f) for f in filename])\n",
    "print(annualmax0_arrays.shape)\n",
    "\n",
    "filename=glob('/cluster/tufts/lamontagnelab/gshabe01/deg_tempC.0/deg_tempC.0/*.csv')\n",
    "\n",
    "dataframes0=[pd.read_csv(f) for f in filename]"
   ]
  },
  {
   "cell_type": "code",
   "execution_count": null,
   "metadata": {},
   "outputs": [],
   "source": []
  },
  {
   "cell_type": "markdown",
   "metadata": {},
   "source": [
    "Now we are loading the historical record "
   ]
  },
  {
   "cell_type": "code",
   "execution_count": 6,
   "metadata": {},
   "outputs": [],
   "source": [
    "data=pd.read_csv('/cluster/tufts/lamontagnelab/gshabe01/livneh.csv')\n",
    "data=data.set_index(pd.to_datetime(data['date']))\n",
    "data=data.loc['1950-01-01':'2013-12-31'].drop(columns=['date'])"
   ]
  },
  {
   "cell_type": "markdown",
   "metadata": {},
   "source": [
    "here we are generating a dataframe of PRMS runs for SWGs for 0 degree warming "
   ]
  },
  {
   "cell_type": "code",
   "execution_count": 7,
   "metadata": {},
   "outputs": [],
   "source": [
    "PRMS0_array=pd.DataFrame(np.zeros((len(dataframes0[1]),100)))\n",
    "for i in range(0,100):\n",
    "    PRMS0_array[i]=dataframes0[i][' 2']\n",
    "PRMS0_array['date']=pd.to_datetime(dataframes0[0]['Date'])\n",
    "PRMS0_array=PRMS0_array.set_index('date')\n",
    "PRMS0_array['obs']=np.array(data['Qgage'])\n",
    "PRMS0_array['histmodel']=np.array(data['Qmodel'])\n",
    "PRMS0_annualmax=pd.DataFrame(np.sort(PRMS0_array.resample('Y').max(),axis=0))\n",
    "PRMS0_annualmax['non_Exceedance']=PRMS0_annualmax[0].rank()/len(PRMS0_annualmax)"
   ]
  },
  {
   "cell_type": "code",
   "execution_count": 7,
   "metadata": {},
   "outputs": [],
   "source": [
    "from scipy.stats import pearson3\n",
    "flood100Y0=np.zeros((annualmax0_arrays.shape[0],10000))\n",
    "\n",
    "for i in range(0,annualmax0_arrays.shape[0]):\n",
    "    \n",
    "    flood100Y0[i,:]=np.exp(np.log(pd.DataFrame(annualmax0_arrays[i,:,0:10000])).mean()+np.log(pd.DataFrame((annualmax0_arrays[i,:,0:10000]))).std()*abs(pearson3.ppf(0.99, np.log(pd.DataFrame(annualmax0_arrays[i,:,0:10000])).skew())))\n",
    "\n",
    "#flood100YPRMS=PRMS_annualmax.drop(columns=['non_Exceedance']).mean()+PRMS_annualmax.drop(columns=['non_Exceedance']).std()*(pearson3.ppf(0.99, PRMS_annualmax.drop(columns=['non_Exceedance']).skew()))"
   ]
  },
  {
   "cell_type": "markdown",
   "metadata": {},
   "source": [
    "We are looking as central moments of 100-year flood for no warming scenario  (flood100Y0). central moments : mean , mode median"
   ]
  },
  {
   "cell_type": "code",
   "execution_count": 8,
   "metadata": {},
   "outputs": [
    {
     "name": "stdout",
     "output_type": "stream",
     "text": [
      "4080.7564117218176\n",
      "3822.8244507770396\n"
     ]
    }
   ],
   "source": [
    "from scipy import stats\n",
    "import statistics\n",
    "#print(statistics.mode(flood100Y0,axis=None))\n",
    "print(np.mean(flood100Y0))\n",
    "print(np.median(flood100Y0))"
   ]
  },
  {
   "cell_type": "code",
   "execution_count": 9,
   "metadata": {},
   "outputs": [
    {
     "data": {
      "text/plain": [
       "3531.8830323310704"
      ]
     },
     "execution_count": 9,
     "metadata": {},
     "output_type": "execute_result"
    }
   ],
   "source": [
    "counts, bins = np.histogram(flood100Y0, bins=1000)\n",
    "max_bin = np.argmax(counts)\n",
    "bins[max_bin:max_bin+2].mean()"
   ]
  },
  {
   "cell_type": "code",
   "execution_count": 10,
   "metadata": {},
   "outputs": [],
   "source": [
    "\n",
    "flood100Y35=np.zeros((annualmax_arrays.shape[0],10000))\n",
    "\n",
    "for i in range(0,annualmax_arrays.shape[0]):\n",
    "    \n",
    "    flood100Y35[i,:]=np.exp(np.log(pd.DataFrame(annualmax_arrays[i,:,0:10000])).mean()+np.log(pd.DataFrame((annualmax_arrays[i,:,0:10000]))).std()*abs(pearson3.ppf(0.99, np.log(pd.DataFrame(annualmax_arrays[i,:,0:10000])).skew())))"
   ]
  },
  {
   "cell_type": "code",
   "execution_count": 11,
   "metadata": {},
   "outputs": [
    {
     "name": "stdout",
     "output_type": "stream",
     "text": [
      "4696.007989714888\n",
      "4397.75296567946\n"
     ]
    }
   ],
   "source": [
    "#print(statistics.mode(flood100Y0,axis=None))\n",
    "print(np.mean(flood100Y35))\n",
    "print(np.median(flood100Y35))"
   ]
  },
  {
   "cell_type": "code",
   "execution_count": 13,
   "metadata": {},
   "outputs": [],
   "source": [
    "\n",
    "flood100Y6=np.zeros((annualmax_arrays6.shape[0],10000))\n",
    "\n",
    "for i in range(0,annualmax_arrays6.shape[0]):\n",
    "    flood100Y6[i,:]=np.exp(np.log(pd.DataFrame(annualmax_arrays6[i,:,0:10000])).mean()+np.log(pd.DataFrame((annualmax_arrays6[i,:,0:10000]))).std()*abs(pearson3.ppf(0.99, np.log(pd.DataFrame(annualmax_arrays6[i,:,0:10000])).skew())))\n",
    "    "
   ]
  },
  {
   "cell_type": "code",
   "execution_count": 14,
   "metadata": {},
   "outputs": [
    {
     "name": "stdout",
     "output_type": "stream",
     "text": [
      "5671.8767422661695\n",
      "5301.447158039454\n"
     ]
    }
   ],
   "source": [
    "#print(statistics.mode(flood100Y0,axis=None))\n",
    "print(np.mean(flood100Y6))\n",
    "print(np.median(flood100Y6))"
   ]
  },
  {
   "cell_type": "code",
   "execution_count": 15,
   "metadata": {},
   "outputs": [],
   "source": [
    "\n",
    "flood100Y8=np.zeros((annualmax_arrays8.shape[0],10000))\n",
    "\n",
    "for i in range(0,annualmax_arrays8.shape[0]):\n",
    "    flood100Y8[i,:]=np.exp(np.log(pd.DataFrame(annualmax_arrays8[i,:,0:10000])).mean()+np.log(pd.DataFrame((annualmax_arrays8[i,:,0:10000]))).std()*abs(pearson3.ppf(0.99, np.log(pd.DataFrame(annualmax_arrays8[i,:,0:10000])).skew())))\n",
    "    "
   ]
  },
  {
   "cell_type": "code",
   "execution_count": 16,
   "metadata": {},
   "outputs": [
    {
     "name": "stdout",
     "output_type": "stream",
     "text": [
      "6876.2627756691945\n",
      "6407.194698054191\n"
     ]
    }
   ],
   "source": [
    "#print(statistics.mode(flood100Y0,axis=None))\n",
    "print(np.mean(flood100Y8))\n",
    "print(np.median(flood100Y8))"
   ]
  },
  {
   "cell_type": "code",
   "execution_count": 18,
   "metadata": {},
   "outputs": [
    {
     "data": {
      "text/plain": [
       "0.6760368624177455"
      ]
     },
     "execution_count": 18,
     "metadata": {},
     "output_type": "execute_result"
    }
   ],
   "source": [
    "print((np.median(flood100Y8)-np.median(flood100Y0))/np.median(flood100Y0))"
   ]
  },
  {
   "cell_type": "code",
   "execution_count": 19,
   "metadata": {},
   "outputs": [
    {
     "data": {
      "text/plain": [
       "([<matplotlib.axis.YTick at 0x2aae53f336d8>,\n",
       "  <matplotlib.axis.YTick at 0x2aae52eaaf28>,\n",
       "  <matplotlib.axis.YTick at 0x2aae52d68eb8>,\n",
       "  <matplotlib.axis.YTick at 0x2aae53f79cc0>,\n",
       "  <matplotlib.axis.YTick at 0x2aae53f79b00>],\n",
       " <a list of 5 Text yticklabel objects>)"
      ]
     },
     "execution_count": 19,
     "metadata": {},
     "output_type": "execute_result"
    },
    {
     "data": {
      "image/png": "[encoded data removed]",
      "text/plain": [
       "<Figure size 432x288 with 1 Axes>"
      ]
     },
     "metadata": {
      "needs_background": "light"
     },
     "output_type": "display_data"
    }
   ],
   "source": [
    "max100SWM8=np.percentile(flood100Y8,95)\n",
    "min100SWM8=np.percentile(flood100Y8,5)\n",
    "\n",
    "max100SWM6=np.percentile(flood100Y6,95)\n",
    "min100SWM6=np.percentile(flood100Y6,5)\n",
    "\n",
    "max100SWM35=np.percentile(flood100Y35,95)\n",
    "min100SWM35=np.percentile(flood100Y35,5)\n",
    "\n",
    "max100SWM0=np.percentile(flood100Y0,95)\n",
    "min100SWM0=np.percentile(flood100Y0,5)\n",
    "\n",
    "f=plt.figure()\n",
    "\n",
    "plt.plot([min100SWM0,max100SWM0],[2,2],color='k')\n",
    "plt.scatter(np.median(flood100Y0), 2,color='k')\n",
    "\n",
    "plt.plot([min100SWM35,max100SWM35],[3,3],color='k')\n",
    "plt.scatter(np.median(flood100Y35), 3,color='k')\n",
    "\n",
    "plt.plot([min100SWM6,max100SWM6],[4,4],color='k')\n",
    "plt.scatter(np.median(flood100Y6), 4,color='k')\n",
    "\n",
    "plt.plot([min100SWM8,max100SWM8],[5,5],color='k')\n",
    "plt.scatter(np.median(flood100Y8), 5,color='k')\n",
    "\n",
    "plt.scatter(4100.97,1,color='k')\n",
    "plt.plot([2814,6661],[1,1],color='k')\n",
    "plt.grid()\n",
    "\n",
    "plt.xlabel('100 year flood', size= 16)\n",
    "plt.yticks([1,2,3,4,5],['Observed','0 F','3.5 F','6 F','8 F '], size= 16)\n",
    "#plt.title('SWG + SWM Across Different Temperature Scenarios')\n",
    "\n",
    "#f.savefig(\"linewisker100Y.png\", bbox_inches='tight', dpi=1000)"
   ]
  },
  {
   "cell_type": "code",
   "execution_count": 15,
   "metadata": {},
   "outputs": [
    {
     "data": {
      "text/plain": [
       "([<matplotlib.axis.YTick at 0x2b2b00b5eac8>,\n",
       "  <matplotlib.axis.YTick at 0x2b2b00b5e358>,\n",
       "  <matplotlib.axis.YTick at 0x2b2b00b6abe0>,\n",
       "  <matplotlib.axis.YTick at 0x2b2b00b99908>],\n",
       " <a list of 4 Text yticklabel objects>)"
      ]
     },
     "execution_count": 15,
     "metadata": {},
     "output_type": "execute_result"
    },
    {
     "data": {
      "image/png": "[encoded data removed]",
      "text/plain": [
       "<Figure size 432x288 with 1 Axes>"
      ]
     },
     "metadata": {
      "needs_background": "light"
     },
     "output_type": "display_data"
    }
   ],
   "source": [
    "max100SWM8=np.percentile(flood100Y8,95)\n",
    "min100SWM8=np.percentile(flood100Y8,5)\n",
    "\n",
    "max100SWM6=np.percentile(flood100Y6,95)\n",
    "min100SWM6=np.percentile(flood100Y6,5)\n",
    "\n",
    "max100SWM35=np.percentile(flood100Y35,95)\n",
    "min100SWM35=np.percentile(flood100Y35,5)\n",
    "\n",
    "max100SWM0=np.percentile(flood100Y0,95)\n",
    "min100SWM0=np.percentile(flood100Y0,5)\n",
    "\n",
    "f=plt.figure()\n",
    "\n",
    "plt.plot([min100SWM0,max100SWM0],[2,2],color='k')\n",
    "plt.scatter(np.median(flood100Y0), 2,color='k')\n",
    "\n",
    "#plt.plot([min100SWM35,max100SWM35],[3,3],color='k')\n",
    "#plt.scatter(np.median(flood100Y35), 3,color='k')\n",
    "\n",
    "plt.plot([min100SWM6,max100SWM6],[3,3],color='k')\n",
    "plt.scatter(np.median(flood100Y6), 3,color='k')\n",
    "\n",
    "plt.plot([min100SWM8,max100SWM8],[4,4],color='k')\n",
    "plt.scatter(np.median(flood100Y8), 4,color='k')\n",
    "\n",
    "plt.scatter(4100.97,1,color='k')\n",
    "plt.plot([2814,6661],[1,1],color='k')\n",
    "plt.grid()\n",
    "\n",
    "plt.xlabel('100 year flood', size= 16)\n",
    "plt.yticks([1,2,3,4],['Observed','0 F$^\\circ$','6 F$^\\circ$','8 F$^\\circ$ '], size=16)"
   ]
  },
  {
   "cell_type": "code",
   "execution_count": 16,
   "metadata": {},
   "outputs": [
    {
     "data": {
      "image/png": "[encoded data removed]",
      "text/plain": [
       "<Figure size 432x288 with 1 Axes>"
      ]
     },
     "metadata": {
      "needs_background": "light"
     },
     "output_type": "display_data"
    }
   ],
   "source": [
    "import seaborn as sns\n",
    "f=plt.figure()\n",
    "sns.distplot(flood100Y8.flatten(),kde=False, color='tan',label='8 deg PRMS + SWM',norm_hist=True,bins=1000)\n",
    "sns.distplot(flood100Y0.flatten(),kde=False, color='gray',label='0 deg PRMS + SWM',norm_hist=True,bins=1000)\n",
    "\n",
    "#sns.distplot(flood100YPRMS,kde=False, color='cadetblue',label='PRMS',norm_hist=True,bins=20)\n",
    "#sns.distplot(flood100YPRMS0,kde=False, color='rosybrown',label='PRMS0',norm_hist=True,bins=20)\n",
    "plt.plot([4100.97,4100.97],[0,0.0004], color='g',linestyle='solid',label='observation')\n",
    "#plt.plot([flood100YPRMS[101],flood100YPRMS[101]],[0,0.0004], color='k',linestyle='solid',label='historyPRMS')\n",
    "plt.plot([2814,2814],[0,0.0004], color='g',linestyle='dashed')\n",
    "plt.plot([6661,6661],[0,0.0004], color='g',linestyle='dashed')\n",
    "#plt.plot([2814,6661],[1,1],color='k')\n",
    "plt.xlabel('100 year flood flow',fontsize=14)\n",
    "plt.ylabel('Density',fontsize=14)\n",
    "plt.xlim(0,20000)\n",
    "plt.legend(prop={'size': 12})\n",
    "plt.grid()\n",
    "f.savefig(\"histogram100Y.png\", bbox_inches='tight', dpi=1000)"
   ]
  },
  {
   "cell_type": "code",
   "execution_count": 20,
   "metadata": {},
   "outputs": [],
   "source": [
    "\n",
    "flood50Y0=np.zeros((annualmax0_arrays.shape[0],10000))\n",
    "\n",
    "for i in range(0,annualmax0_arrays.shape[0]):\n",
    "    \n",
    "    flood50Y0[i,:]=np.exp(np.log(pd.DataFrame(annualmax0_arrays[i,:,0:10000])).mean()+np.log(pd.DataFrame((annualmax0_arrays[i,:,0:10000]))).std()*abs(pearson3.ppf(0.98, np.log(pd.DataFrame(annualmax0_arrays[i,:,0:10000])).skew())))\n",
    "\n",
    "\n",
    "flood50Y35=np.zeros((annualmax_arrays.shape[0],10000))\n",
    "\n",
    "for i in range(0,annualmax_arrays.shape[0]):\n",
    "    \n",
    "    flood50Y35[i,:]=np.exp(np.log(pd.DataFrame(annualmax_arrays[i,:,0:10000])).mean()+np.log(pd.DataFrame((annualmax_arrays[i,:,0:10000]))).std()*abs(pearson3.ppf(0.98, np.log(pd.DataFrame(annualmax_arrays[i,:,0:10000])).skew())))\n",
    "\n",
    "flood50Y6=np.zeros((annualmax_arrays6.shape[0],10000))\n",
    "\n",
    "for i in range(0,annualmax_arrays6.shape[0]):\n",
    "    flood50Y6[i,:]=np.exp(np.log(pd.DataFrame(annualmax_arrays6[i,:,0:10000])).mean()+np.log(pd.DataFrame((annualmax_arrays6[i,:,0:10000]))).std()*abs(pearson3.ppf(0.98, np.log(pd.DataFrame(annualmax_arrays6[i,:,0:10000])).skew())))\n",
    "        \n",
    "    \n",
    "    \n",
    "    \n",
    "\n",
    "flood50Y8=np.zeros((annualmax_arrays8.shape[0],10000))\n",
    "\n",
    "for i in range(0,annualmax_arrays8.shape[0]):\n",
    "    flood50Y8[i,:]=np.exp(np.log(pd.DataFrame(annualmax_arrays8[i,:,0:10000])).mean()+np.log(pd.DataFrame((annualmax_arrays8[i,:,0:10000]))).std()*abs(pearson3.ppf(0.98, np.log(pd.DataFrame(annualmax_arrays8[i,:,0:10000])).skew())))\n",
    "    "
   ]
  },
  {
   "cell_type": "code",
   "execution_count": 12,
   "metadata": {},
   "outputs": [],
   "source": [
    "flood50Y0=np.zeros((annualmax0_arrays.shape[0],10000))\n",
    "\n",
    "for i in range(0,annualmax0_arrays.shape[0]):\n",
    "    \n",
    "    flood50Y0[i,:]=np.exp(np.log(pd.DataFrame(annualmax0_arrays[i,:,0:10000])).mean()+np.log(pd.DataFrame((annualmax0_arrays[i,:,0:10000]))).std()*abs(pearson3.ppf(0.98, np.log(pd.DataFrame(annualmax0_arrays[i,:,0:10000])).skew())))\n",
    "\n"
   ]
  },
  {
   "cell_type": "code",
   "execution_count": 21,
   "metadata": {},
   "outputs": [
    {
     "name": "stdout",
     "output_type": "stream",
     "text": [
      "3398.2297576886035\n",
      "3248.391893190973\n"
     ]
    }
   ],
   "source": [
    "#print(stats.mode(flood50Y0,axis=None))\n",
    "print(np.mean(flood50Y0))\n",
    "print(np.median(flood50Y0))"
   ]
  },
  {
   "cell_type": "code",
   "execution_count": 14,
   "metadata": {},
   "outputs": [
    {
     "data": {
      "text/plain": [
       "2974.107979426639"
      ]
     },
     "execution_count": 14,
     "metadata": {},
     "output_type": "execute_result"
    }
   ],
   "source": [
    "\n",
    "\n",
    "counts, bins = np.histogram(flood50Y0, bins=1000)\n",
    "max_bin = np.argmax(counts)\n",
    "bins[max_bin:max_bin+2].mean()"
   ]
  },
  {
   "cell_type": "code",
   "execution_count": 15,
   "metadata": {},
   "outputs": [
    {
     "data": {
      "text/plain": [
       "([<matplotlib.axis.YTick at 0x2b4581da4dc0>,\n",
       "  <matplotlib.axis.YTick at 0x2b4581da49a0>,\n",
       "  <matplotlib.axis.YTick at 0x2b4581da4100>,\n",
       "  <matplotlib.axis.YTick at 0x2b458482de20>,\n",
       "  <matplotlib.axis.YTick at 0x2b4584838370>],\n",
       " [Text(0, 1, 'Observed'),\n",
       "  Text(0, 2, '0 F$^\\\\circ$'),\n",
       "  Text(0, 3, '3.5 F$^\\\\circ$'),\n",
       "  Text(0, 4, '6 F$^\\\\circ$'),\n",
       "  Text(0, 5, '8 F$^\\\\circ$ ')])"
      ]
     },
     "execution_count": 15,
     "metadata": {},
     "output_type": "execute_result"
    },
    {
     "data": {
      "image/png": "[encoded data removed]",
      "text/plain": [
       "<Figure size 432x288 with 1 Axes>"
      ]
     },
     "metadata": {},
     "output_type": "display_data"
    }
   ],
   "source": [
    "max50SWM8=np.percentile(flood50Y8,95)\n",
    "min50SWM8=np.percentile(flood50Y8,5)\n",
    "\n",
    "max50SWM6=np.percentile(flood50Y6,95)\n",
    "min50SWM6=np.percentile(flood50Y6,5)\n",
    "\n",
    "max50SWM35=np.percentile(flood50Y35,95)\n",
    "min50SWM35=np.percentile(flood50Y35,5)\n",
    "\n",
    "max50SWM0=np.percentile(flood50Y0,95)\n",
    "min50SWM0=np.percentile(flood50Y0,5)\n",
    "\n",
    "f=plt.figure()\n",
    "\n",
    "plt.plot([min50SWM0,max50SWM0],[2,2],color='k')\n",
    "plt.scatter(np.median(flood50Y0), 2,color='k')\n",
    "\n",
    "plt.plot([min50SWM35,max50SWM35],[3,3],color='k')\n",
    "plt.scatter(np.median(flood50Y35), 3,color='k')\n",
    "\n",
    "plt.plot([min50SWM6,max50SWM6],[4,4],color='k')\n",
    "plt.scatter(np.median(flood50Y6), 4,color='k')\n",
    "\n",
    "plt.plot([min50SWM8,max50SWM8],[5,5],color='k')\n",
    "plt.scatter(np.median(flood50Y8), 5,color='k')\n",
    "\n",
    "plt.scatter(3525.45,1,color='k')\n",
    "\n",
    "plt.plot([2622,5142],[1,1],color='k')\n",
    "plt.grid()\n",
    "\n",
    "plt.xlabel('50 year flood', size=16)\n",
    "plt.yticks([1,2,3,4,5],['Observed','0 F$^\\circ$','3.5 F$^\\circ$','6 F$^\\circ$','8 F$^\\circ$ '], size=16)"
   ]
  },
  {
   "cell_type": "code",
   "execution_count": 22,
   "metadata": {},
   "outputs": [
    {
     "data": {
      "text/plain": [
       "([<matplotlib.axis.YTick at 0x2b2affa179b0>,\n",
       "  <matplotlib.axis.YTick at 0x2b2affa0e978>,\n",
       "  <matplotlib.axis.YTick at 0x2b2affa14b38>,\n",
       "  <matplotlib.axis.YTick at 0x2b2b7d1f7ef0>],\n",
       " <a list of 4 Text yticklabel objects>)"
      ]
     },
     "execution_count": 22,
     "metadata": {},
     "output_type": "execute_result"
    },
    {
     "data": {
      "image/png": "[encoded data removed]",
      "text/plain": [
       "<Figure size 432x288 with 1 Axes>"
      ]
     },
     "metadata": {
      "needs_background": "light"
     },
     "output_type": "display_data"
    }
   ],
   "source": [
    "max50SWM8=np.percentile(flood50Y8,95)\n",
    "min50SWM8=np.percentile(flood50Y8,5)\n",
    "\n",
    "max50SWM6=np.percentile(flood50Y6,95)\n",
    "min50SWM6=np.percentile(flood50Y6,5)\n",
    "\n",
    "max50SWM35=np.percentile(flood50Y35,95)\n",
    "min50SWM35=np.percentile(flood50Y35,5)\n",
    "\n",
    "max50SWM0=np.percentile(flood50Y0,95)\n",
    "min50SWM0=np.percentile(flood50Y0,5)\n",
    "\n",
    "f=plt.figure()\n",
    "\n",
    "plt.plot([min50SWM0,max50SWM0],[2,2],color='k')\n",
    "plt.scatter(np.median(flood50Y0), 2,color='k')\n",
    "\n",
    "#plt.plot([min50SWM35,max50SWM35],[3,3],color='k')\n",
    "#plt.scatter(np.median(flood50Y35), 3,color='k')\n",
    "\n",
    "plt.plot([min50SWM6,max50SWM6],[3,3],color='k')\n",
    "plt.scatter(np.median(flood50Y6), 3,color='k')\n",
    "\n",
    "plt.plot([min50SWM8,max50SWM8],[4,4],color='k')\n",
    "plt.scatter(np.median(flood50Y8), 4,color='k')\n",
    "\n",
    "plt.scatter(3525.45,1,color='k')\n",
    "\n",
    "plt.plot([2622,5142],[1,1],color='k')\n",
    "plt.grid()\n",
    "\n",
    "plt.xlabel('50 year flood', size=16)\n",
    "plt.yticks([1,2,3,4],['Observed','0 F$^\\circ$','6 F$^\\circ$','8 F$^\\circ$ '], size=16)\n",
    "#plt.title('SWG + SWM  Across Different Temperature Scenario')\n",
    "#f.savefig(\"linewisker50Y.png\", bbox_inches='tight', dpi=1000)"
   ]
  },
  {
   "cell_type": "code",
   "execution_count": 58,
   "metadata": {},
   "outputs": [
    {
     "data": {
      "image/png": "[encoded data removed]",
      "text/plain": [
       "<Figure size 432x288 with 1 Axes>"
      ]
     },
     "metadata": {
      "needs_background": "light"
     },
     "output_type": "display_data"
    }
   ],
   "source": [
    "import seaborn as sns\n",
    "f=plt.figure()\n",
    "sns.distplot(flood50Y8.flatten(),kde=False, color='tan',label='8 deg PRMS + SWM',norm_hist=True,bins=1000)\n",
    "sns.distplot(flood50Y0.flatten(),kde=False, color='gray',label='0 deg PRMS + SWM',norm_hist=True,bins=1000)\n",
    "\n",
    "#sns.distplot(flood100YPRMS,kde=False, color='cadetblue',label='PRMS',norm_hist=True,bins=20)\n",
    "#sns.distplot(flood100YPRMS0,kde=False, color='rosybrown',label='PRMS0',norm_hist=True,bins=20)\n",
    "plt.plot([3525.45,3525.45],[0,0.0004], color='g',linestyle='solid',label='observation')\n",
    "#plt.plot([flood100YPRMS[101],flood100YPRMS[101]],[0,0.0004], color='k',linestyle='solid',label='historyPRMS')\n",
    "plt.plot([2622,2622],[0,0.0004], color='g',linestyle='dashed')\n",
    "plt.plot([5142,5142],[0,0.0004], color='g',linestyle='dashed')\n",
    "#plt.plot([2814,6661],[1,1],color='k')\n",
    "plt.xlabel('50 year flood flow',fontsize=14)\n",
    "plt.ylabel('Density',fontsize=14)\n",
    "plt.xlim(0,15000)\n",
    "plt.legend(prop={'size': 12})\n",
    "plt.grid()\n",
    "f.savefig(\"histogram50Y.png\", bbox_inches='tight', dpi=1000)"
   ]
  },
  {
   "cell_type": "code",
   "execution_count": 22,
   "metadata": {},
   "outputs": [],
   "source": [
    "\n",
    "flood500Y0=np.zeros((annualmax0_arrays.shape[0],10000))\n",
    "\n",
    "for i in range(0,annualmax0_arrays.shape[0]):\n",
    "    \n",
    "    flood500Y0[i,:]=np.exp(np.log(pd.DataFrame(annualmax0_arrays[i,:,0:10000])).mean()+np.log(pd.DataFrame((annualmax0_arrays[i,:,0:10000]))).std()*abs(pearson3.ppf(0.998, np.log(pd.DataFrame(annualmax0_arrays[i,:,0:10000])).skew())))\n",
    "\n",
    "\n",
    "flood500Y35=np.zeros((annualmax_arrays.shape[0],10000))\n",
    "\n",
    "for i in range(0,annualmax_arrays.shape[0]):\n",
    "    \n",
    "    flood500Y35[i,:]=np.exp(np.log(pd.DataFrame(annualmax_arrays[i,:,0:10000])).mean()+np.log(pd.DataFrame((annualmax_arrays[i,:,0:10000]))).std()*abs(pearson3.ppf(0.998, np.log(pd.DataFrame(annualmax_arrays[i,:,0:10000])).skew())))\n",
    "\n",
    "flood500Y6=np.zeros((annualmax_arrays6.shape[0],10000))\n",
    "\n",
    "for i in range(0,annualmax_arrays6.shape[0]):\n",
    "    flood500Y6[i,:]=np.exp(np.log(pd.DataFrame(annualmax_arrays6[i,:,0:10000])).mean()+np.log(pd.DataFrame((annualmax_arrays6[i,:,0:10000]))).std()*abs(pearson3.ppf(0.998, np.log(pd.DataFrame(annualmax_arrays6[i,:,0:10000])).skew())))\n",
    "        \n",
    "    \n",
    "flood500Y8=np.zeros((annualmax_arrays8.shape[0],10000))\n",
    "\n",
    "for i in range(0,annualmax_arrays8.shape[0]):\n",
    "    flood500Y8[i,:]=np.exp(np.log(pd.DataFrame(annualmax_arrays8[i,:,0:10000])).mean()+np.log(pd.DataFrame((annualmax_arrays8[i,:,0:10000]))).std()*abs(pearson3.ppf(0.998, np.log(pd.DataFrame(annualmax_arrays8[i,:,0:10000])).skew())))\n",
    "    "
   ]
  },
  {
   "cell_type": "code",
   "execution_count": 23,
   "metadata": {},
   "outputs": [
    {
     "name": "stdout",
     "output_type": "stream",
     "text": [
      "0.627361775989232\n",
      "0.6760368624177455\n",
      "0.7815934626875065\n"
     ]
    }
   ],
   "source": [
    "print((np.median(flood50Y8)-np.median(flood50Y0))/np.median(flood50Y0))\n",
    "print((np.median(flood100Y8)-np.median(flood100Y0))/np.median(flood100Y0))\n",
    "print((np.median(flood500Y8)-np.median(flood500Y0))/np.median(flood500Y0))"
   ]
  },
  {
   "cell_type": "code",
   "execution_count": 24,
   "metadata": {},
   "outputs": [
    {
     "name": "stdout",
     "output_type": "stream",
     "text": [
      "0.14166162818051875\n",
      "0.1503936480226182\n",
      "0.16760783478136812\n"
     ]
    }
   ],
   "source": [
    "print((np.median(flood50Y35)-np.median(flood50Y0))/np.median(flood50Y0))\n",
    "print((np.median(flood100Y35)-np.median(flood100Y0))/np.median(flood100Y0))\n",
    "print((np.median(flood500Y35)-np.median(flood500Y0))/np.median(flood500Y0))"
   ]
  },
  {
   "cell_type": "code",
   "execution_count": 35,
   "metadata": {},
   "outputs": [
    {
     "data": {
      "text/plain": [
       "10.153881099717315"
      ]
     },
     "execution_count": 35,
     "metadata": {},
     "output_type": "execute_result"
    }
   ],
   "source": [
    "(np.median(flood100Y8)-np.median(flood100Y35))/np.median(flood100Y35)/4.5*100"
   ]
  },
  {
   "cell_type": "code",
   "execution_count": 24,
   "metadata": {},
   "outputs": [],
   "source": [
    "flood500Y0=np.zeros((annualmax0_arrays.shape[0],10000))\n",
    "\n",
    "for i in range(0,annualmax0_arrays.shape[0]):\n",
    "    \n",
    "    flood500Y0[i,:]=np.exp(np.log(pd.DataFrame(annualmax0_arrays[i,:,0:10000])).mean()+np.log(pd.DataFrame((annualmax0_arrays[i,:,0:10000]))).std()*abs(pearson3.ppf(0.998, np.log(pd.DataFrame(annualmax0_arrays[i,:,0:10000])).skew())))\n",
    "\n"
   ]
  },
  {
   "cell_type": "code",
   "execution_count": 25,
   "metadata": {},
   "outputs": [
    {
     "name": "stdout",
     "output_type": "stream",
     "text": [
      "6109.360507428155\n",
      "5370.37790634098\n"
     ]
    }
   ],
   "source": [
    "#print(stats.mode(flood500Y0,axis=None))\n",
    "print(np.mean(flood500Y0))\n",
    "print(np.median(flood500Y0))"
   ]
  },
  {
   "cell_type": "code",
   "execution_count": 26,
   "metadata": {},
   "outputs": [
    {
     "data": {
      "text/plain": [
       "4545.693984854361"
      ]
     },
     "execution_count": 26,
     "metadata": {},
     "output_type": "execute_result"
    }
   ],
   "source": [
    "\n",
    "\n",
    "counts, bins = np.histogram(flood500Y0, bins=1000)\n",
    "max_bin = np.argmax(counts)\n",
    "bins[max_bin:max_bin+2].mean()"
   ]
  },
  {
   "cell_type": "code",
   "execution_count": 27,
   "metadata": {},
   "outputs": [
    {
     "data": {
      "text/plain": [
       "([<matplotlib.axis.YTick at 0x2b2b7d7d90b8>,\n",
       "  <matplotlib.axis.YTick at 0x2b2b7d316fd0>,\n",
       "  <matplotlib.axis.YTick at 0x2b2b7d20cf28>,\n",
       "  <matplotlib.axis.YTick at 0x2b2b00bdb898>,\n",
       "  <matplotlib.axis.YTick at 0x2b2b00c64278>],\n",
       " <a list of 5 Text yticklabel objects>)"
      ]
     },
     "execution_count": 27,
     "metadata": {},
     "output_type": "execute_result"
    },
    {
     "data": {
      "image/png": "[encoded data removed]",
      "text/plain": [
       "<Figure size 432x288 with 1 Axes>"
      ]
     },
     "metadata": {
      "needs_background": "light"
     },
     "output_type": "display_data"
    }
   ],
   "source": [
    "max500SWM8=np.percentile(flood500Y8,95)\n",
    "min500SWM8=np.percentile(flood500Y8,5)\n",
    "\n",
    "max500SWM6=np.percentile(flood500Y6,95)\n",
    "min500SWM6=np.percentile(flood500Y6,5)\n",
    "\n",
    "max500SWM35=np.percentile(flood500Y35,95)\n",
    "min500SWM35=np.percentile(flood500Y35,5)\n",
    "\n",
    "max500SWM0=np.percentile(flood500Y0,95)\n",
    "min500SWM0=np.percentile(flood500Y0,5)\n",
    "\n",
    "plt.figure()\n",
    "\n",
    "plt.plot([min500SWM0,max500SWM0],[2,2],color='k')\n",
    "plt.scatter(np.median(flood500Y0), 2,color='k')\n",
    "\n",
    "plt.plot([min500SWM35,max500SWM35],[3,3],color='k')\n",
    "plt.scatter(np.median(flood500Y35), 3,color='k')\n",
    "\n",
    "plt.plot([min500SWM6,max500SWM6],[4,4],color='k')\n",
    "plt.scatter(np.median(flood500Y6), 4,color='k')\n",
    "\n",
    "plt.plot([min500SWM8,max500SWM8],[5,5],color='k')\n",
    "plt.scatter(np.median(flood500Y8), 5,color='k')\n",
    "\n",
    "plt.scatter(5577.48,1,color='k')\n",
    "\n",
    "plt.plot([3128,11858],[1,1],color='k')\n",
    "plt.grid()\n",
    "\n",
    "plt.xlabel('500 year flood', size=16)\n",
    "plt.yticks([1,2,3,4,5],['Observed','0 F$^\\circ$','3.5 F$^\\circ$','6 F$^\\circ$','8 F$^\\circ$ '], size=16)\n",
    "#plt.title('SWG + SWM  Across Different Temperature Scenario')"
   ]
  },
  {
   "cell_type": "raw",
   "metadata": {},
   "source": [
    "max500SWM8=np.percentile(flood500Y8,95)\n",
    "min500SWM8=np.percentile(flood500Y8,5)\n",
    "\n",
    "max500SWM6=np.percentile(flood500Y6,95)\n",
    "min500SWM6=np.percentile(flood500Y6,5)\n",
    "\n",
    "max500SWM35=np.percentile(flood500Y35,95)\n",
    "min500SWM35=np.percentile(flood500Y35,5)\n",
    "\n",
    "max500SWM0=np.percentile(flood500Y0,95)\n",
    "min500SWM0=np.percentile(flood500Y0,5)\n",
    "\n",
    "plt.figure()\n",
    "\n",
    "plt.plot([min500SWM0,max500SWM0],[2,2],color='k')\n",
    "plt.scatter(np.median(flood500Y0), 2,color='k')\n",
    "\n",
    "#plt.plot([min500SWM35,max500SWM35],[3,3],color='k')\n",
    "#plt.scatter(np.median(flood500Y35), 3,color='k')\n",
    "\n",
    "plt.plot([min500SWM6,max500SWM6],[3,3],color='k')\n",
    "plt.scatter(np.median(flood500Y6), 3,color='k')\n",
    "\n",
    "plt.plot([min500SWM8,max500SWM8],[4,4],color='k')\n",
    "plt.scatter(np.median(flood500Y8), 4,color='k')\n",
    "\n",
    "plt.scatter(5577.48,1,color='k')\n",
    "\n",
    "plt.plot([3128,11858],[1,1],color='k')\n",
    "plt.grid()\n",
    "\n",
    "plt.xlabel('500 year flood', size=16)\n",
    "plt.yticks([1,2,3,4],['Observed','0 F$^\\circ$','6 F$^\\circ$','8 F$^\\circ$ '], size=16)\n",
    "#plt.title('SWG + SWM  Across Different Temperature Scenario')"
   ]
  },
  {
   "cell_type": "code",
   "execution_count": null,
   "metadata": {},
   "outputs": [],
   "source": []
  },
  {
   "cell_type": "code",
   "execution_count": 2,
   "metadata": {},
   "outputs": [
    {
     "name": "stdout",
     "output_type": "stream",
     "text": [
      "(100, 64, 10006)\n",
      "(100, 64, 10006)\n",
      "(100, 64, 10006)\n",
      "(100, 64, 10006)\n"
     ]
    }
   ],
   "source": [
    "filename=glob('/cluster/tufts/lamontagnelab/gshabe01/outfiles/deg0/day7lowbig_*.npy')\n",
    "low7_arrays0=np.array([np.load(f) for f in filename])\n",
    "print(low7_arrays0.shape)\n",
    "\n",
    "filename=glob('/cluster/tufts/lamontagnelab/gshabe01/outfiles/deg8/day7lowbig*.npy')\n",
    "low7_arrays8=np.array([np.load(f) for f in filename])\n",
    "print(low7_arrays8.shape)\n",
    "\n",
    "filename=glob('/cluster/tufts/lamontagnelab/gshabe01/outfiles/deg3.5/day7lowbig*.npy')\n",
    "low7_arrays35=np.array([np.load(f) for f in filename])\n",
    "print(low7_arrays35.shape)\n",
    "\n",
    "filename=glob('/cluster/tufts/lamontagnelab/gshabe01/outfiles/deg6/day7lowbig*.npy')\n",
    "low7_arrays6=np.array([np.load(f) for f in filename])\n",
    "print(low7_arrays6.shape)"
   ]
  },
  {
   "cell_type": "code",
   "execution_count": 3,
   "metadata": {},
   "outputs": [],
   "source": [
    "def low7day(Q,data,n):\n",
    "    s=pd.DataFrame(Q.T,index=data['date'])\n",
    "    data=data.set_index('date')\n",
    "    low7day=np.array(s.rolling(7).mean().resample('Y').min())\n",
    "    low7daysort=pd.DataFrame(np.zeros(low7day.shape))\n",
    "    for i in range(0,n):\n",
    "           low7daysort[i]=np.sort(low7day[:,i])[::-1]\n",
    "    \n",
    "    low7daysort['rank']=(low7daysort.index) + 1\n",
    "    low7daysort['Exeedance']=low7daysort['rank']/(len(low7daysort)+1)\n",
    "    low7daysort['non_Exceedance']=1-low7daysort['Exeedance']\n",
    "    \n",
    "    low7dayobs=data['Qgage'].rolling(7).mean().resample('Y').min()\n",
    "    low7daymodel=data['Qmodel'].rolling(7).mean().resample('Y').min()\n",
    "    low7daysort['obs']=np.sort(low7dayobs)[::-1]\n",
    "    low7daysort['model']=np.sort(low7daymodel)[::-1]\n",
    "    l7=np.array(low7daysort)[:,0:n]\n",
    "    from scipy.stats import norm\n",
    "    plt.figure()\n",
    "    # for i in range(0,n):\n",
    "    #     plt.plot(norm.ppf(low7daysort['Exeedance']),low7daysort[i],color='silver',lw=1)\n",
    "    plt.fill_between(norm.ppf(low7daysort['Exeedance']),np.min(l7,axis=1),np.max(l7,axis=1),color='silver')\n",
    "    ax2=plt.plot(norm.ppf(low7daysort['Exeedance']),low7daysort['obs'], color='green',lw=2)\n",
    "    ax1=plt.plot(norm.ppf(low7daysort['Exeedance']),low7daysort['model'], color='k',lw=2)\n",
    "    plt.title('7 Day Low Flow')\n",
    "    plt.ylabel('flow')\n",
    "    plt.xlabel('Exceedance Normal Inverse')\n",
    "    plt.legend([ax1, ax2], ['deter-model','observation' ], loc='upper right')\n",
    "    plt.grid()\n",
    "    return low7daysort"
   ]
  },
  {
   "cell_type": "code",
   "execution_count": 4,
   "metadata": {},
   "outputs": [],
   "source": [
    "data=pd.read_excel('/cluster/tufts/lamontagnelab/gshabe01/livneh.xlsx')\n",
    "data=data.set_index(pd.to_datetime(data['date']))\n",
    "data['month']=pd.DatetimeIndex(data['date']).month\n",
    "data=data.loc['1950-01-01':'2013-12-31'].drop(columns=['date'])\n",
    "\n",
    "obs_7Q10=data['Qgage'].rolling(7).mean().resample('Y').min().sort_values()[6]"
   ]
  },
  {
   "cell_type": "code",
   "execution_count": 5,
   "metadata": {},
   "outputs": [],
   "source": [
    "low7_0=np.zeros(low7_arrays0.shape)\n",
    "low7_8=np.zeros(low7_arrays8.shape)\n",
    "low7_6=np.zeros(low7_arrays6.shape)\n",
    "low7_35=np.zeros(low7_arrays35.shape)\n",
    "\n",
    "for i in range(0,low7_arrays0.shape[0]):\n",
    "    low7_0[i]=np.sort(low7_arrays0[i],axis=0)[0:10000]\n",
    "    low7_8[i]=np.sort(low7_arrays8[i],axis=0)[0:10000]\n",
    "    low7_6[i]=np.sort(low7_arrays6[i],axis=0)[0:10000]\n",
    "    low7_35[i]=np.sort(low7_arrays35[i],axis=0)[0:10000]\n",
    "\n",
    "\n",
    "\n"
   ]
  },
  {
   "cell_type": "code",
   "execution_count": 6,
   "metadata": {},
   "outputs": [
    {
     "data": {
      "text/plain": [
       "5.71428571428572"
      ]
     },
     "execution_count": 6,
     "metadata": {},
     "output_type": "execute_result"
    }
   ],
   "source": [
    "obs_7Q10"
   ]
  },
  {
   "cell_type": "code",
   "execution_count": 7,
   "metadata": {},
   "outputs": [],
   "source": [
    "low7Q10_0=np.zeros((low7_arrays0.shape[0],10000))\n",
    "low7Q10_8=np.zeros((low7_arrays8.shape[0],10000))\n",
    "low7Q10_6=np.zeros((low7_arrays6.shape[0],10000))\n",
    "low7Q10_35=np.zeros((low7_arrays35.shape[0],10000))\n",
    "\n",
    "\n",
    "for i in range(0,low7_arrays0.shape[0]):\n",
    "    low7Q10_0[i,:]=low7_0[i][6,0:10000]\n",
    "    low7Q10_8[i,:]=low7_8[i][6,0:10000]\n",
    "    low7Q10_6[i,:]=low7_6[i][6,0:10000]\n",
    "    low7Q10_35[i,:]=low7_35[i][6,0:10000]"
   ]
  },
  {
   "cell_type": "code",
   "execution_count": 8,
   "metadata": {},
   "outputs": [
    {
     "data": {
      "text/plain": [
       "([<matplotlib.axis.YTick at 0x2b320e33e0f0>,\n",
       "  <matplotlib.axis.YTick at 0x2b320e3409b0>,\n",
       "  <matplotlib.axis.YTick at 0x2b320e3ed898>,\n",
       "  <matplotlib.axis.YTick at 0x2b320e0cdef0>],\n",
       " <a list of 4 Text yticklabel objects>)"
      ]
     },
     "execution_count": 8,
     "metadata": {},
     "output_type": "execute_result"
    },
    {
     "data": {
      "image/png": "[encoded data removed]",
      "text/plain": [
       "<Figure size 432x288 with 1 Axes>"
      ]
     },
     "metadata": {
      "needs_background": "light"
     },
     "output_type": "display_data"
    }
   ],
   "source": [
    "min7Q108deg= np.percentile(low7Q10_8[0:10000],5)\n",
    "max7Q108deg=np.percentile(low7Q10_8[0:10000],95)\n",
    "\n",
    "min7Q106deg= np.percentile(low7Q10_6[0:10000],5)\n",
    "max7Q106deg=np.percentile(low7Q10_6[0:10000],95)\n",
    "\n",
    "\n",
    "min7Q1035deg= np.percentile(low7Q10_35[0:10000],5)\n",
    "max7Q1035deg=np.percentile(low7Q10_35[0:10000],95)\n",
    "\n",
    "min7Q100deg= np.percentile(low7Q10_0[0:10000],5)\n",
    "max7Q100deg=np.percentile(low7Q10_0[0:10000],95)\n",
    "\n",
    "\n",
    "plt.figure()\n",
    "\n",
    "\n",
    "plt.plot([min7Q108deg,max7Q108deg],[4,4],color='k')\n",
    "plt.scatter(np.median(low7Q10_8[0:10000]), 4,color='k')\n",
    "\n",
    "plt.plot([min7Q106deg,max7Q106deg],[3,3],color='k')\n",
    "plt.scatter(np.median(low7Q10_6[0:10000]), 3,color='k')\n",
    "\n",
    "#plt.plot([min7Q1035deg,max7Q1035deg],[3,3],color='k')\n",
    "#plt.scatter(np.median(low7Q10_35[0:10000]), 3,color='k')\n",
    "plt.plot([min7Q100deg,max7Q100deg],[2,2],color='k')\n",
    "plt.scatter(np.median(low7Q10_0[0:10000]), 2,color='k')\n",
    "plt.scatter(obs_7Q10,1,color='k')\n",
    "plt.plot([3.48,9.28],[1,1],color='k')\n",
    "\n",
    "\n",
    "plt.grid()\n",
    "\n",
    "plt.xlabel('7Q10')\n",
    "plt.yticks([1,2,3,4],['Observed','0 F$^\\circ$','6 F$^\\circ$','8 F$^\\circ$ '], size=16)\n",
    "#plt.title('SWG +SWM Across Different Temperature Scenario')"
   ]
  },
  {
   "cell_type": "raw",
   "metadata": {},
   "source": [
    "(np.median(low7Q10_8[0:10000])-np.median(low7Q10_0[0:10000]))/np.median(low7Q10_0[0:10000])"
   ]
  },
  {
   "cell_type": "code",
   "execution_count": 10,
   "metadata": {},
   "outputs": [
    {
     "data": {
      "text/plain": [
       "([<matplotlib.axis.YTick at 0x2b320e5076d8>,\n",
       "  <matplotlib.axis.YTick at 0x2b320e4faf60>,\n",
       "  <matplotlib.axis.YTick at 0x2b320e378ef0>,\n",
       "  <matplotlib.axis.YTick at 0x2b320df29ac8>,\n",
       "  <matplotlib.axis.YTick at 0x2b320df29f60>],\n",
       " <a list of 5 Text yticklabel objects>)"
      ]
     },
     "execution_count": 10,
     "metadata": {},
     "output_type": "execute_result"
    },
    {
     "data": {
      "image/png": "[encoded data removed]",
      "text/plain": [
       "<Figure size 432x288 with 1 Axes>"
      ]
     },
     "metadata": {
      "needs_background": "light"
     },
     "output_type": "display_data"
    }
   ],
   "source": [
    "plt.figure()\n",
    "\n",
    "\n",
    "plt.plot([min7Q108deg,max7Q108deg],[5,5],color='k')\n",
    "plt.scatter(np.median(low7Q10_8[0:10000]), 5,color='k')\n",
    "\n",
    "plt.plot([min7Q106deg,max7Q106deg],[4,4],color='k')\n",
    "plt.scatter(np.median(low7Q10_6[0:10000]), 4,color='k')\n",
    "\n",
    "plt.plot([min7Q1035deg,max7Q1035deg],[3,3],color='k')\n",
    "plt.scatter(np.median(low7Q10_35[0:10000]), 3,color='k')\n",
    "plt.plot([min7Q100deg,max7Q100deg],[2,2],color='k')\n",
    "plt.scatter(np.median(low7Q10_0[0:10000]), 2,color='k')\n",
    "plt.scatter(obs_7Q10,1,color='k')\n",
    "plt.plot([3.48,9.28],[1,1],color='k')\n",
    "\n",
    "\n",
    "plt.grid()\n",
    "\n",
    "plt.xlabel('7Q10', size=16)\n",
    "plt.yticks([1,2,3,4,5],['Observed','0 F$^\\circ$','3.5 F$^\\circ$','6 F$^\\circ$','8 F$^\\circ$ '], size=16)\n",
    "#plt.title('SWG +SWM Across Different Temperature Scenario')"
   ]
  },
  {
   "cell_type": "code",
   "execution_count": 18,
   "metadata": {},
   "outputs": [],
   "source": [
    "R=np.arange(0,8.5,0.5)\n",
    "Qdailytest=pd.DataFrame(np.zeros((10000*100,17)))\n",
    "\n",
    "filename=glob('/cluster/tufts/lamontagnelab/gshabe01/outfiles/deg%s/daily_median*.npy' %0)\n",
    "test=np.array([np.load(f) for f in filename])\n",
    "Qdailytest[0]=test.flatten()\n",
    "\n",
    "for r in range(1,17):\n",
    "    n=Decimal(R[r]).normalize()\n",
    "    filename=glob('/cluster/tufts/lamontagnelab/gshabe01/outfiles/deg%s/daily_*.npy' %n)\n",
    "    test=np.array([np.load(f) for f in filename])\n",
    "    Qdailytest[r]=test.flatten()"
   ]
  },
  {
   "cell_type": "code",
   "execution_count": 13,
   "metadata": {},
   "outputs": [
    {
     "data": {
      "text/plain": [
       "(100, 10000)"
      ]
     },
     "execution_count": 13,
     "metadata": {},
     "output_type": "execute_result"
    }
   ],
   "source": [
    "filename=glob('/cluster/tufts/lamontagnelab/gshabe01/outfiles/deg%s/daily_median*.npy' %0)\n",
    "test=np.array([np.load(f) for f in filename])\n",
    "test.shape"
   ]
  },
  {
   "cell_type": "code",
   "execution_count": 19,
   "metadata": {},
   "outputs": [
    {
     "data": {
      "text/plain": [
       "70.0"
      ]
     },
     "execution_count": 19,
     "metadata": {},
     "output_type": "execute_result"
    }
   ],
   "source": [
    "data=pd.read_csv('/cluster/tufts/lamontagnelab/gshabe01/livneh.csv')\n",
    "data=data.set_index(pd.to_datetime(data['date']))\n",
    "data=data.loc['1950-01-01':'2013-12-31'].drop(columns=['date'])\n",
    "data['Qgage'].median()"
   ]
  },
  {
   "cell_type": "code",
   "execution_count": 44,
   "metadata": {},
   "outputs": [
    {
     "data": {
      "text/html": [
       "<div>\n",
       "<style scoped>\n",
       "    .dataframe tbody tr th:only-of-type {\n",
       "        vertical-align: middle;\n",
       "    }\n",
       "\n",
       "    .dataframe tbody tr th {\n",
       "        vertical-align: top;\n",
       "    }\n",
       "\n",
       "    .dataframe thead th {\n",
       "        text-align: right;\n",
       "    }\n",
       "</style>\n",
       "<table border=\"1\" class=\"dataframe\">\n",
       "  <thead>\n",
       "    <tr style=\"text-align: right;\">\n",
       "      <th></th>\n",
       "      <th>0</th>\n",
       "    </tr>\n",
       "  </thead>\n",
       "  <tbody>\n",
       "    <tr>\n",
       "      <th>0</th>\n",
       "      <td>obs</td>\n",
       "    </tr>\n",
       "    <tr>\n",
       "      <th>1</th>\n",
       "      <td>0</td>\n",
       "    </tr>\n",
       "    <tr>\n",
       "      <th>2</th>\n",
       "      <td>0.5</td>\n",
       "    </tr>\n",
       "    <tr>\n",
       "      <th>3</th>\n",
       "      <td>1</td>\n",
       "    </tr>\n",
       "    <tr>\n",
       "      <th>4</th>\n",
       "      <td>1.5</td>\n",
       "    </tr>\n",
       "    <tr>\n",
       "      <th>5</th>\n",
       "      <td>2</td>\n",
       "    </tr>\n",
       "    <tr>\n",
       "      <th>6</th>\n",
       "      <td>2.5</td>\n",
       "    </tr>\n",
       "    <tr>\n",
       "      <th>7</th>\n",
       "      <td>3</td>\n",
       "    </tr>\n",
       "    <tr>\n",
       "      <th>8</th>\n",
       "      <td>3.5</td>\n",
       "    </tr>\n",
       "    <tr>\n",
       "      <th>9</th>\n",
       "      <td>4</td>\n",
       "    </tr>\n",
       "    <tr>\n",
       "      <th>10</th>\n",
       "      <td>4.5</td>\n",
       "    </tr>\n",
       "    <tr>\n",
       "      <th>11</th>\n",
       "      <td>5</td>\n",
       "    </tr>\n",
       "    <tr>\n",
       "      <th>12</th>\n",
       "      <td>5.5</td>\n",
       "    </tr>\n",
       "    <tr>\n",
       "      <th>13</th>\n",
       "      <td>6</td>\n",
       "    </tr>\n",
       "    <tr>\n",
       "      <th>14</th>\n",
       "      <td>6.5</td>\n",
       "    </tr>\n",
       "    <tr>\n",
       "      <th>15</th>\n",
       "      <td>7</td>\n",
       "    </tr>\n",
       "    <tr>\n",
       "      <th>16</th>\n",
       "      <td>7.5</td>\n",
       "    </tr>\n",
       "    <tr>\n",
       "      <th>17</th>\n",
       "      <td>8</td>\n",
       "    </tr>\n",
       "  </tbody>\n",
       "</table>\n",
       "</div>"
      ],
      "text/plain": [
       "      0\n",
       "0   obs\n",
       "1     0\n",
       "2   0.5\n",
       "3     1\n",
       "4   1.5\n",
       "5     2\n",
       "6   2.5\n",
       "7     3\n",
       "8   3.5\n",
       "9     4\n",
       "10  4.5\n",
       "11    5\n",
       "12  5.5\n",
       "13    6\n",
       "14  6.5\n",
       "15    7\n",
       "16  7.5\n",
       "17    8"
      ]
     },
     "execution_count": 44,
     "metadata": {},
     "output_type": "execute_result"
    }
   ],
   "source": [
    "ticks=pd.DataFrame(np.arange(0,18))\n",
    "ticks.loc[1:]=np.arange(0,8.5,.5)\n",
    "ticks.loc[0] = 'obs'\n",
    "ticks"
   ]
  },
  {
   "cell_type": "code",
   "execution_count": 48,
   "metadata": {},
   "outputs": [
    {
     "data": {
      "text/plain": [
       "([<matplotlib.axis.YTick at 0x2af076593dd8>,\n",
       "  <matplotlib.axis.YTick at 0x2af0765936a0>,\n",
       "  <matplotlib.axis.YTick at 0x2af07629a550>,\n",
       "  <matplotlib.axis.YTick at 0x2af0765dd7b8>,\n",
       "  <matplotlib.axis.YTick at 0x2af0765ddc50>,\n",
       "  <matplotlib.axis.YTick at 0x2af0765dda90>,\n",
       "  <matplotlib.axis.YTick at 0x2af0765e5630>,\n",
       "  <matplotlib.axis.YTick at 0x2af0765dd3c8>,\n",
       "  <matplotlib.axis.YTick at 0x2af0765dd550>,\n",
       "  <matplotlib.axis.YTick at 0x2af0765e5240>,\n",
       "  <matplotlib.axis.YTick at 0x2af0765ed2e8>,\n",
       "  <matplotlib.axis.YTick at 0x2af0765ed780>,\n",
       "  <matplotlib.axis.YTick at 0x2af0765edc50>,\n",
       "  <matplotlib.axis.YTick at 0x2af0765eda90>,\n",
       "  <matplotlib.axis.YTick at 0x2af0765f5630>,\n",
       "  <matplotlib.axis.YTick at 0x2af0765f5b00>,\n",
       "  <matplotlib.axis.YTick at 0x2af0765f5e80>,\n",
       "  <matplotlib.axis.YTick at 0x2af0765f5d30>],\n",
       " <a list of 18 Text yticklabel objects>)"
      ]
     },
     "execution_count": 48,
     "metadata": {},
     "output_type": "execute_result"
    },
    {
     "data": {
      "image/png": "[encoded data removed]",
      "text/plain": [
       "<Figure size 432x288 with 1 Axes>"
      ]
     },
     "metadata": {},
     "output_type": "display_data"
    }
   ],
   "source": [
    "\n",
    "minQ=np.zeros(17)\n",
    "maxQ=np.zeros(17)\n",
    "for r in range(0,17):\n",
    "    minQ[r]= np.percentile(Qdailytest[r],5)\n",
    "    maxQ[r]=np.percentile(Qdailytest[r],95)\n",
    "\n",
    "\n",
    "\n",
    "plt.figure()\n",
    "for r in range(0,17):\n",
    "    plt.plot([minQ[r],maxQ[r]],[r+1,r+1],color='k')\n",
    "    plt.scatter(np.median(Qdailytest[r]), r+1,color='k')\n",
    "# plt.scatter(np.median(Qtest100), 5,color='k')\n",
    "# plt.plot([minQ_70,maxQ_70],[4,4],color='k')\n",
    "# plt.scatter(np.median(Qtest), 4,color='k')\n",
    "# plt.plot([minQ_50,maxQ_50],[3,3],color='k')\n",
    "# plt.scatter(np.median(Qtest50), 3,color='k')\n",
    "# plt.plot([minQ_30,maxQ_30],[2,2],color='k')\n",
    "# plt.scatter(np.median(Qtest30), 2,color='k')\n",
    "\n",
    "plt.scatter(data['Qgage'].median(),0,color='k')\n",
    "\n",
    "#plt.plot([3128,11858],[1,1],color='k')\n",
    "\n",
    "# plt.plot([minQ_0,maxQ_0],[1,1],color='k')\n",
    "# plt.scatter(np.median(Q), 1,color='k')\n",
    "\n",
    "\n",
    "plt.grid()\n",
    "# plt.xticks([40,50,60,70,80])\n",
    "# plt.xlim(35,85)\n",
    "plt.xlabel('median daily flow')\n",
    "plt.ylabel('warming  F$^\\circ$')\n",
    "plt.yticks(np.arange(0,18),ticks[0])\n",
    "#plt.savefig('/cluster/tufts/lamontagnelab/gshabe01/500flood2070s.svg',bbox_inches='tight')"
   ]
  },
  {
   "cell_type": "code",
   "execution_count": 38,
   "metadata": {},
   "outputs": [
    {
     "data": {
      "text/plain": [
       "-140.20025681904394"
      ]
     },
     "execution_count": 38,
     "metadata": {},
     "output_type": "execute_result"
    }
   ],
   "source": []
  },
  {
   "cell_type": "code",
   "execution_count": null,
   "metadata": {},
   "outputs": [],
   "source": []
  }
 ],
 "metadata": {
  "kernelspec": {
   "display_name": "Python 3",
   "language": "python",
   "name": "python3"
  },
  "language_info": {
   "codemirror_mode": {
    "name": "ipython",
    "version": 3
   },
   "file_extension": ".py",
   "mimetype": "text/x-python",
   "name": "python",
   "nbconvert_exporter": "python",
   "pygments_lexer": "ipython3",
   "version": "3.7.1"
  }
 },
 "nbformat": 4,
 "nbformat_minor": 5
}
